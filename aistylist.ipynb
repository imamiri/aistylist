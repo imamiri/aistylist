{
 "cells": [
  {
   "cell_type": "code",
   "execution_count": 1,
   "id": "0038de88-03aa-4a4c-ab52-c66de22171a7",
   "metadata": {},
   "outputs": [],
   "source": [
    "import boto3\n",
    "import json"
   ]
  },
  {
   "cell_type": "code",
   "execution_count": 2,
   "id": "6df8f567-59ca-4896-be06-0a11f815741d",
   "metadata": {},
   "outputs": [],
   "source": [
    "# Initialize the Amazon Bedrock client\n",
    "bedrock = boto3.client('bedrock-runtime')"
   ]
  },
  {
   "cell_type": "code",
   "execution_count": 3,
   "id": "7e78463e-37db-491a-9ad8-980c97ccd90c",
   "metadata": {},
   "outputs": [],
   "source": [
    "# Function to generate style recommendation\n",
    "def generate_style_suggestion(occasion, gender):\n",
    "    # Prepare the prompt in the correct format\n",
    "    prompt = f\"Human: I am attending a {occasion} and I am {gender}. What outfit would you suggest?\\nAssistant:\"\n",
    "    \n",
    "    # Create the payload with correct structure for Claude v2\n",
    "    payload = json.dumps({\n",
    "        \"prompt\": prompt,  # Required key for anthropic.claude-v2\n",
    "        \"max_tokens_to_sample\": 300  # Adjust the token limit based on your need\n",
    "    }).encode('utf-8')\n",
    "\n",
    "    try:\n",
    "        # Call Bedrock model (make sure to replace 'anthropic.claude-v2:1' with your model ID)\n",
    "        response = bedrock.invoke_model(\n",
    "            modelId='anthropic.claude-v2:1',  # Specific model ID for Claude\n",
    "            contentType='application/json',\n",
    "            body=payload  # Pass the byte string as body\n",
    "        )\n",
    "        \n",
    "        # Read and decode the response\n",
    "        suggestion = response['body'].read().decode('utf-8')\n",
    "        return suggestion\n",
    "    \n",
    "    except Exception as e:\n",
    "        return f\"Error invoking model: {str(e)}\""
   ]
  },
  {
   "cell_type": "code",
   "execution_count": 4,
   "id": "afe80682-08d3-4b8d-8d56-57b98c7664c4",
   "metadata": {
    "editable": true,
    "slideshow": {
     "slide_type": ""
    },
    "tags": []
   },
   "outputs": [
    {
     "name": "stdin",
     "output_type": "stream",
     "text": [
      "What is the occasion? (e.g., wedding, casual outing, formal event):  wedding\n",
      "What is your gender? (e.g., male, female, non-binary):  female\n"
     ]
    },
    {
     "name": "stdout",
     "output_type": "stream",
     "text": [
      "\n",
      "Here is the style suggestion for you:\n",
      "\n",
      "{\"type\":\"completion\",\"completion\":\" Here are some suggested outfits to wear to a wedding as a female guest:\\n\\n- A cocktail dress or knee-length dress in a formal fabric like chiffon, lace, or silk. Stick to solid colors or subtle prints/patterns. A wrap dress can be a flattering option. Accessorize with heels and jewelry.\\n\\n- A skirt and blouse combo, like a knee-length pencil skirt with a fancy silk top. Make sure the skirt and top are in dressier, wedding-appropriate fabrics. Wear heels.\\n\\n- Wide-leg pants or jumpsuit with heels and a dressy top or blazer on top. The pants should be in a wedding-ready material like crepe; a sequined or satin top would look great for a wedding.\\n\\n- For a daytime or more casual wedding, a floral sundress with wedges or dressy sandals could work too. Opt for a fancier sundress with nicer accents.\\n\\nSome tips: Avoid wearing white, cream or ivory so you don't clash with the bride. Steer clear of overly revealing outfits. Make sure to wear proper undergarments so your silhouette looks smooth. And check the wedding invitation for any preferred dress code details. Time of day and formality can also help guide your outfit choice.\",\"stop_reason\":\"stop_sequence\",\"stop\":\"\\n\\nHuman:\"}\n"
     ]
    }
   ],
   "source": [
    "# Example usage\n",
    "if __name__ == \"__main__\":\n",
    "    # Collect input from the user\n",
    "    occasion = input(\"What is the occasion? (e.g., wedding, casual outing, formal event): \")\n",
    "    gender = input(\"What is your gender? (e.g., male, female, non-binary): \")\n",
    "\n",
    "    # Generate and display the style suggestion\n",
    "    suggestion = generate_style_suggestion(occasion, gender)\n",
    "    print(\"\\nHere is the style suggestion for you:\\n\")\n",
    "    print(suggestion)\n"
   ]
  },
  {
   "cell_type": "code",
   "execution_count": null,
   "id": "99abbe0d-08c1-4b7e-8d4b-15118ee59a17",
   "metadata": {},
   "outputs": [],
   "source": []
  },
  {
   "cell_type": "code",
   "execution_count": null,
   "id": "49ff9275-982f-43e7-b0ba-9c96f93ddc65",
   "metadata": {},
   "outputs": [],
   "source": []
  }
 ],
 "metadata": {
  "kernelspec": {
   "display_name": "Python 3 (ipykernel)",
   "language": "python",
   "name": "python3"
  },
  "language_info": {
   "codemirror_mode": {
    "name": "ipython",
    "version": 3
   },
   "file_extension": ".py",
   "mimetype": "text/x-python",
   "name": "python",
   "nbconvert_exporter": "python",
   "pygments_lexer": "ipython3",
   "version": "3.11.9"
  }
 },
 "nbformat": 4,
 "nbformat_minor": 5
}
